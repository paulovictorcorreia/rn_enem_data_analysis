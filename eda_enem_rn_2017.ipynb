{
 "cells": [
  {
   "cell_type": "markdown",
   "metadata": {
    "collapsed": true
   },
   "source": [
    "# 1.Introduction\n",
    "\n",
    "This notebook contains the development of my final work for bachelor's degree in Computer Engineering at Federal University of Rio Grande do Norte. It contains a exploratory data analysis of the database of residents of the state of Rio Grande do Norte that attended to ENEM, the High School National Exam, a national exam that allows students to enter public and federal universities, and also evaluates the performance of the high school around the country.\n",
    "\n",
    "In this notebook, we will study the performance of the students in Rio Grande do Norte, a state of the Northeast in Brazil. We will take a look at various featuras and indicators to make local managers of education have a visual tool to ease the decision making of the next steps of the state's education."
   ]
  },
  {
   "cell_type": "code",
   "execution_count": 12,
   "metadata": {},
   "outputs": [
    {
     "name": "stdout",
     "output_type": "stream",
     "text": [
      "   Unnamed: 0  Unnamed: 0.1  NU_INSCRICAO  NU_ANO  CO_MUNICIPIO_RESIDENCIA  \\\n",
      "0           0            32  170003127880    2017                  2405207   \n",
      "1           1            33  170006483595    2017                  2405801   \n",
      "2           2            65  170003127896    2017                  2403251   \n",
      "3           3            73  170001415750    2017                  2400208   \n",
      "4           4           169  170001417217    2017                  2408102   \n",
      "\n",
      "  NO_MUNICIPIO_RESIDENCIA  CO_UF_RESIDENCIA SG_UF_RESIDENCIA  NU_IDADE  \\\n",
      "0                 Janduís                24               RN      17.0   \n",
      "1             João Câmara                24               RN      22.0   \n",
      "2              Parnamirim                24               RN      28.0   \n",
      "3                     Açu                24               RN      26.0   \n",
      "4                   Natal                24               RN      39.0   \n",
      "\n",
      "  TP_SEXO  ...   Q018  Q019  Q020  Q021 Q022  Q023 Q024  Q025  Q026  Q027  \n",
      "0       F  ...      A     B     A     A    B     A    A     A     C     A  \n",
      "1       F  ...      A     B     A     A    B     A    A     A     A     B  \n",
      "2       F  ...      A     B     B     A    B     B    B     B     A     D  \n",
      "3       F  ...      A     B     A     A    C     A    A     B     A     D  \n",
      "4       M  ...      B     B     B     A    C     A    B     A     A     A  \n",
      "\n",
      "[5 rows x 139 columns]\n"
     ]
    }
   ],
   "source": [
    "import pandas as pd\n",
    "import seaborn as sns\n",
    "import matplotlib.pyplot as plt\n",
    "\n",
    "educ = pd.read_csv('./data/enem_rn_2017.csv', sep=';', encoding='ISO-8859-1')\n",
    "print(educ.head())"
   ]
  },
  {
   "cell_type": "code",
   "execution_count": 15,
   "metadata": {},
   "outputs": [
    {
     "name": "stdout",
     "output_type": "stream",
     "text": [
      "<class 'pandas.core.frame.DataFrame'>\n",
      "Int64Index: 109400 entries, 0 to 159075\n",
      "Data columns (total 4 columns):\n",
      "NU_NOTA_CN    109400 non-null float64\n",
      "NU_NOTA_CH    109400 non-null float64\n",
      "NU_NOTA_LC    109400 non-null float64\n",
      "NU_NOTA_MT    109400 non-null float64\n",
      "dtypes: float64(4)\n",
      "memory usage: 4.2 MB\n",
      "None\n"
     ]
    }
   ],
   "source": [
    "grade_cols = ['NU_NOTA_CN', 'NU_NOTA_CH', 'NU_NOTA_LC', 'NU_NOTA_MT']\n",
    "\n",
    "grades = educ[grade_cols].dropna()\n",
    "\n",
    "print(grades.info())"
   ]
  },
  {
   "cell_type": "code",
   "execution_count": 25,
   "metadata": {},
   "outputs": [
    {
     "data": {
      "image/png": "[encoded data removed]",
      "text/plain": [
       "<matplotlib.figure.Figure at 0x7f490477a278>"
      ]
     },
     "metadata": {},
     "output_type": "display_data"
    }
   ],
   "source": [
    "plt.subplot(2, 2, 1)\n",
    "plt.hist(grades['NU_NOTA_CN'], bins=10)\n",
    "plt.xlabel('Notas em Ciências da Natureza')\n",
    "\n",
    "plt.subplot(2, 2, 2)\n",
    "plt.hist(grades['NU_NOTA_CH'], bins=10)\n",
    "plt.xlabel('Notas em Ciências Humanas')\n",
    "\n",
    "plt.subplot(2, 2, 3)\n",
    "plt.hist(grades['NU_NOTA_LC'], bins=10)\n",
    "plt.xlabel('Notas em Linguagem e Códigos')\n",
    "\n",
    "plt.subplot(2, 2, 4)\n",
    "plt.hist(grades['NU_NOTA_MT'], bins=10)\n",
    "plt.xlabel('Notas em Matemática')\n",
    "\n",
    "plt.subplots_adjust(hspace=0.5, wspace=0.5)\n",
    "plt.show()"
   ]
  }
 ],
 "metadata": {
  "kernelspec": {
   "display_name": "Python 3",
   "language": "python",
   "name": "python3"
  },
  "language_info": {
   "codemirror_mode": {
    "name": "ipython",
    "version": 3
   },
   "file_extension": ".py",
   "mimetype": "text/x-python",
   "name": "python",
   "nbconvert_exporter": "python",
   "pygments_lexer": "ipython3",
   "version": "3.6.2"
  }
 },
 "nbformat": 4,
 "nbformat_minor": 2
}
